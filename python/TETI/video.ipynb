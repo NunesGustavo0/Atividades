{
 "cells": [
  {
   "cell_type": "code",
   "execution_count": 1,
   "id": "2cdbb599-bad3-47e6-9c16-784b7b071313",
   "metadata": {},
   "outputs": [
    {
     "name": "stdout",
     "output_type": "stream",
     "text": [
      "Defaulting to user installation because normal site-packages is not writeable\n",
      "Requirement already satisfied: opencv-python in c:\\users\\user\\appdata\\roaming\\python\\python312\\site-packages (4.10.0.84)\n",
      "Requirement already satisfied: numpy>=1.21.2 in c:\\programdata\\anaconda3\\lib\\site-packages (from opencv-python) (1.26.4)\n",
      "Note: you may need to restart the kernel to use updated packages.\n"
     ]
    }
   ],
   "source": [
    "pip install opencv-python"
   ]
  },
  {
   "cell_type": "code",
   "execution_count": 3,
   "id": "2d6f2e74-46fb-4da2-8ab9-38c899d6ff9c",
   "metadata": {},
   "outputs": [],
   "source": [
    "import cv2 as cv\n",
    "import numpy as np"
   ]
  },
  {
   "cell_type": "code",
   "execution_count": 4,
   "id": "d056495e-6cc6-4d53-b7bf-e59ebfa723cb",
   "metadata": {},
   "outputs": [],
   "source": [
    "path = 'C:/Users/USER/Documents/jupyter/videos/'"
   ]
  },
  {
   "cell_type": "code",
   "execution_count": 5,
   "id": "2f78a7ef-ec16-4963-a8e2-30e958501e4e",
   "metadata": {},
   "outputs": [],
   "source": [
    "video = path + 'lagoa.mp4'"
   ]
  },
  {
   "cell_type": "code",
   "execution_count": 6,
   "id": "e234294c-8dd9-4f66-9bd0-d4dedab02c28",
   "metadata": {},
   "outputs": [],
   "source": [
    "k_laplace = np.array([[0,1,0],[1,-4,1],[0,1,0]], dtype = np.float32)"
   ]
  },
  {
   "cell_type": "code",
   "execution_count": 8,
   "id": "8aa161e9-27ce-4ae1-be05-a7fd0ba2493a",
   "metadata": {},
   "outputs": [],
   "source": [
    "cap = cv.VideoCapture(video)"
   ]
  },
  {
   "cell_type": "code",
   "execution_count": null,
   "id": "8a36a779-480f-419e-81e6-64b4d57058a9",
   "metadata": {},
   "outputs": [],
   "source": [
    "while True:\n",
    "    ret, frame = cap.read()\n",
    "\n",
    "    if not ret:\n",
    "        cap.set(cv.CAP_POP_POS_FRAME, 0)\n",
    "        continue\n",
    "    if modo == 'gray'\n",
    "        frame_alterado = cv.cvtColor(frame, cv.COLOR_BGR2GRAY)\n",
    "    elif modo == 'binary':\n",
    "        gray = cv.cvtColor(frame, cv.COLOR_BGR2GRAY)\n",
    "        _, frame_alterado = cv2.threshold(gray, 120, 255, cv2.)"
   ]
  }
 ],
 "metadata": {
  "kernelspec": {
   "display_name": "Python 3 (ipykernel)",
   "language": "python",
   "name": "python3"
  },
  "language_info": {
   "codemirror_mode": {
    "name": "ipython",
    "version": 3
   },
   "file_extension": ".py",
   "mimetype": "text/x-python",
   "name": "python",
   "nbconvert_exporter": "python",
   "pygments_lexer": "ipython3",
   "version": "3.12.7"
  }
 },
 "nbformat": 4,
 "nbformat_minor": 5
}
